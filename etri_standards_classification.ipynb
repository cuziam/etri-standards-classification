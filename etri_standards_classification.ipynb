{
  "nbformat": 4,
  "nbformat_minor": 0,
  "metadata": {
    "colab": {
      "provenance": [],
      "mount_file_id": "1Thv3arswWbZufUARjnyRYRB5HeRo_Djc",
      "authorship_tag": "ABX9TyPtM/XNfc5W9QQ1Q6vzKu0T",
      "include_colab_link": true
    },
    "kernelspec": {
      "name": "python3",
      "display_name": "Python 3"
    },
    "language_info": {
      "name": "python"
    }
  },
  "cells": [
    {
      "cell_type": "markdown",
      "metadata": {
        "id": "view-in-github",
        "colab_type": "text"
      },
      "source": [
        "<a href=\"https://colab.research.google.com/github/cuziam/etri-standards-classification/blob/master/etri_standards_classification.ipynb\" target=\"_parent\"><img src=\"https://colab.research.google.com/assets/colab-badge.svg\" alt=\"Open In Colab\"/></a>"
      ]
    },
    {
      "cell_type": "markdown",
      "source": [
        "<랜덤 포레스트 알고리즘을 활용한 스마트시티 표준 분류 모델>\n",
        "저번에 사용한 랜덤포레스트와 비교하여 좀 더 오버피팅을 방지하였음\n",
        "\n",
        "1. **데이터 전처리 및 준비**\n",
        "* 데이터 로딩: ETRI 표준 분류에서 특정 칼럼('적용단계', '스마트 인프라', '인프라분류', '상호운용성수준', '세부분류키워드')을 선택하여 JSON 파일로 저장한다.\n",
        "* 결측값 처리: 행 중에서 결측값이 있는 것을 제거한다. 현재 주어진 데이터에서 결측값은 null값을 의미한다. 총 4700여개의 데이터 중 null값이 없는 1240개의 데이터만 사용하였음.\n",
        "* 레이블 인코딩: 카테고리형 변수(문자형 변수)를 정수로 변환한다.\n",
        "\n",
        "\n",
        "---\n",
        "\n",
        "\n",
        "2. **하이퍼파라미터 튜닝**\n",
        "* 그리드 서치: 'n_estimators', 'max_depth', 'min_samples_split', 'min_samples_leaf' 등의 하이퍼파라미터에 대한 여러 가지 조합을 시도하여 최적의 하이퍼파라미터를 찾는다.\n",
        "\n",
        "\n",
        "---\n",
        "\n",
        "\n",
        "\n",
        "3. **모델 훈련 및 평가**\n",
        "* 데이터 분할: 전처리된 데이터를 훈련 세트와 테스트 세트로 분할한다.\n",
        "* 모델 초기화: 랜덤 포레스트 분류기를 초기화한다.\n",
        "* 모델 훈련: 훈련 세트를 사용하여 랜덤 포레스트 분류기를 훈련시킨다.\n",
        "* 모델 평가: 테스트 세트를 사용하여 모델의 성능을 평가한다. 주로 정확도를 사용한다.\n",
        "\n",
        "\n",
        "---\n",
        "\n",
        "\n",
        "4. **교차 검증 및 최종결과 확인**\n",
        "5-겹 교차 검증: 최적의 하이퍼파라미터를 사용한 모델에 대해 5-겹 교차 검증을 수행하여 모델의 일반화 성능을 평가한다.\n",
        "=> 쉽게 설명하면 데이터를 5개의 부분집합으로 나누고 훈련 셋(4개의 부분집합)과 테스트 셋(1개의 부분집합)을 변경해가며 사용하는 방법.\n",
        "\n",
        "---\n",
        "\n",
        "5. **모델 저장 및 사용**\n",
        "Joblib 사용: 훈련된 모델을 파일로 저장하기 위해 Joblib 라이브러리를 사용한다.\n",
        "\n",
        "\n",
        "---\n",
        "\n",
        "\n"
      ],
      "metadata": {
        "id": "3-3xLDABPeUv"
      }
    },
    {
      "cell_type": "markdown",
      "source": [
        "1. 데이터 전처리 및 준비"
      ],
      "metadata": {
        "id": "981edWT9Tra0"
      }
    },
    {
      "cell_type": "code",
      "execution_count": 7,
      "metadata": {
        "id": "N8DIQIveJxt7"
      },
      "outputs": [],
      "source": [
        "# Import necessary libraries\n",
        "import pandas as pd\n",
        "from sklearn.model_selection import train_test_split, GridSearchCV\n",
        "from sklearn.preprocessing import LabelEncoder\n",
        "from sklearn.ensemble import RandomForestClassifier\n",
        "from sklearn.metrics import accuracy_score\n",
        "from sklearn.model_selection import cross_val_score\n",
        "import joblib\n",
        "\n",
        "\n",
        "\n",
        "# Load and clean the data\n",
        "df_cleaned = pd.read_json('data/xyz_selected_data.json').dropna()\n",
        "label_encoders = {}\n",
        "for column in df_cleaned.columns:\n",
        "    le = LabelEncoder()\n",
        "    df_cleaned[column] = le.fit_transform(df_cleaned[column])\n",
        "    label_encoders[column] = le\n",
        "# Split data into training and test sets\n",
        "X = df_cleaned.drop('적용단계', axis=1)\n",
        "y = df_cleaned['적용단계']\n",
        "X_train, X_test, y_train, y_test = train_test_split(\n",
        "    X, y, test_size=0.2, random_state=42)\n",
        "\n",
        "# Initialize Random Forest classifier\n",
        "rf_clf = RandomForestClassifier(random_state=42)"
      ]
    },
    {
      "cell_type": "markdown",
      "source": [
        "2.하이퍼 파라미터 튜닝"
      ],
      "metadata": {
        "id": "aWO3KSrzT2TD"
      }
    },
    {
      "cell_type": "code",
      "source": [
        "# Hyperparameter Tuning using GridSearchCV\n",
        "param_grid = {\n",
        "    'n_estimators': [50, 100],\n",
        "    'max_depth': [None, 10, 20],\n",
        "    'min_samples_split': [2, 5],\n",
        "    'min_samples_leaf': [1, 2]\n",
        "}\n",
        "grid_search = GridSearchCV(\n",
        "    estimator=rf_clf, param_grid=param_grid, cv=3, n_jobs=-1)\n",
        "grid_search.fit(X_train, y_train)\n",
        "best_params = grid_search.best_params_\n"
      ],
      "metadata": {
        "id": "Ex7OL68-T-2M"
      },
      "execution_count": null,
      "outputs": []
    },
    {
      "cell_type": "markdown",
      "source": [
        "3. 모델 훈련 및 평가\n",
        "4. 교차 검증 및 최종결과 확인"
      ],
      "metadata": {
        "id": "Pf064Pg1UJxE"
      }
    },
    {
      "cell_type": "code",
      "source": [
        "\n",
        "# Train and evaluate Random Forest with best parameters\n",
        "best_rf_clf = RandomForestClassifier(**best_params, random_state=42)\n",
        "best_rf_clf.fit(X_train, y_train)\n",
        "y_pred = best_rf_clf.predict(X_test)\n",
        "accuracy = accuracy_score(y_test, y_pred)\n",
        "\n",
        "# Perform 5-Fold Cross-Validation\n",
        "cv_scores = cross_val_score(best_rf_clf, X, y, cv=5)\n",
        "cv_mean = cv_scores.mean()\n",
        "cv_std = cv_scores.std()\n",
        "\n",
        "# Print the accuracy on the test set\n",
        "print(f\"Test set accuracy: {accuracy * 100:.2f}%\")\n",
        "\n",
        "# Print the 5-Fold Cross-Validation scores\n",
        "print(f\"5-Fold CV Scores: {cv_scores}\")\n",
        "\n",
        "# Print the mean and standard deviation of the CV scores\n",
        "print(f\"5-Fold CV Mean: {cv_mean * 100:.2f}%\")\n",
        "print(f\"5-Fold CV Standard Deviation: {cv_std * 100:.2f}%\")\n"
      ],
      "metadata": {
        "colab": {
          "base_uri": "https://localhost:8080/"
        },
        "id": "yAISwup0LICR",
        "outputId": "1fa9f913-2d86-4251-80d3-cf66a36be6c2"
      },
      "execution_count": 15,
      "outputs": [
        {
          "output_type": "stream",
          "name": "stderr",
          "text": [
            "/usr/local/lib/python3.10/dist-packages/sklearn/model_selection/_split.py:700: UserWarning: The least populated class in y has only 2 members, which is less than n_splits=3.\n",
            "  warnings.warn(\n",
            "/usr/local/lib/python3.10/dist-packages/sklearn/model_selection/_split.py:700: UserWarning: The least populated class in y has only 1 members, which is less than n_splits=5.\n",
            "  warnings.warn(\n"
          ]
        },
        {
          "output_type": "stream",
          "name": "stdout",
          "text": [
            "Test set accuracy: 70.56%\n",
            "5-Fold CV Scores: [0.47983871 0.63306452 0.66935484 0.70564516 0.84615385]\n",
            "5-Fold CV Mean: 66.68%\n",
            "5-Fold CV Standard Deviation: 11.81%\n"
          ]
        }
      ]
    },
    {
      "cell_type": "markdown",
      "source": [
        "5. 모델 저장 및 사용"
      ],
      "metadata": {
        "id": "wPpadZWfUZ8T"
      }
    },
    {
      "cell_type": "code",
      "source": [
        "\n",
        "# Save the trained model\n",
        "model_file_path = 'models/model.joblib'\n",
        "joblib.dump(best_rf_clf, model_file_path)"
      ],
      "metadata": {
        "colab": {
          "base_uri": "https://localhost:8080/"
        },
        "id": "N49MRPz9LOzg",
        "outputId": "76e788e7-27eb-403a-962b-844a6a0b7e4d"
      },
      "execution_count": 11,
      "outputs": [
        {
          "output_type": "execute_result",
          "data": {
            "text/plain": [
              "['models/model.joblib']"
            ]
          },
          "metadata": {},
          "execution_count": 11
        }
      ]
    },
    {
      "cell_type": "code",
      "source": [
        "\n",
        "# Load the trained model from the file\n",
        "loaded_model = joblib.load(model_file_path)\n",
        "\n",
        "# Select a few samples from the test set\n",
        "sample_data = X_test.sample(5, random_state=42)\n",
        "\n",
        "# Make predictions using the loaded model\n",
        "sample_predictions = loaded_model.predict(sample_data)\n",
        "\n",
        "# Decode the predicted labels back to original labels\n",
        "decoded_predictions = label_encoders['적용단계'].inverse_transform(sample_predictions)\n",
        "\n",
        "# Show the sample data and decoded predictions\n",
        "sample_data, decoded_predictions"
      ],
      "metadata": {
        "colab": {
          "base_uri": "https://localhost:8080/"
        },
        "id": "kNyX2vzSLjsR",
        "outputId": "d191366d-cff7-4214-d1e8-a5a40463c9d2"
      },
      "execution_count": 14,
      "outputs": [
        {
          "output_type": "execute_result",
          "data": {
            "text/plain": [
              "(      스마트 인프라  인프라분류  상호운용성수준  세부분류키워드\n",
              " 825         3      3        2       25\n",
              " 3884        3      6        3        9\n",
              " 2505        3      5        1       31\n",
              " 3039        3      5        1        2\n",
              " 1159        3      5        0       32,\n",
              " array(['Do', 'Do', 'Plan(운영전략)', 'Plan(운영전략)', 'Plan(스마트시티구축)'],\n",
              "       dtype=object))"
            ]
          },
          "metadata": {},
          "execution_count": 14
        }
      ]
    }
  ]
}