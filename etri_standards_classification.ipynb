{
  "nbformat": 4,
  "nbformat_minor": 0,
  "metadata": {
    "colab": {
      "provenance": [],
      "mount_file_id": "1Thv3arswWbZufUARjnyRYRB5HeRo_Djc",
      "authorship_tag": "ABX9TyNMzLg0ijCseUnyDF1sBHfO",
      "include_colab_link": true
    },
    "kernelspec": {
      "name": "python3",
      "display_name": "Python 3"
    },
    "language_info": {
      "name": "python"
    }
  },
  "cells": [
    {
      "cell_type": "markdown",
      "metadata": {
        "id": "view-in-github",
        "colab_type": "text"
      },
      "source": [
        "<a href=\"https://colab.research.google.com/github/cuziam/etri-standards-classification/blob/master/etri_standards_classification.ipynb\" target=\"_parent\"><img src=\"https://colab.research.google.com/assets/colab-badge.svg\" alt=\"Open In Colab\"/></a>"
      ]
    },
    {
      "cell_type": "markdown",
      "source": [
        "<랜덤 포레스트 알고리즘을 활용한 스마트시티 표준 분류 모델>\n",
        "저번에 사용한 랜덤포레스트와 비교하여 좀 더 오버피팅을 방지하였음\n",
        "\n",
        "1. **데이터 전처리 및 준비**\n",
        "* 데이터 로딩: ETRI 표준 분류에서 특정 칼럼('적용단계', '스마트 인프라', '인프라분류', '상호운용성수준', '세부분류키워드')을 선택하여 JSON 파일로 저장한다.\n",
        "* 결측값 처리: 행 중에서 결측값이 있는 것을 제거한다. 현재 주어진 데이터에서 결측값은 null값을 의미한다. 총 4700여개의 데이터 중 null값이 없는 1240개의 데이터만 사용하였음.\n",
        "* 레이블 인코딩: 카테고리형 변수(문자형 변수)를 정수로 변환한다.\n",
        "\n",
        "\n",
        "---\n",
        "\n",
        "\n",
        "2. **하이퍼파라미터 튜닝**\n",
        "* 그리드 서치: 'n_estimators', 'max_depth', 'min_samples_split', 'min_samples_leaf' 등의 하이퍼파라미터에 대한 여러 가지 조합을 시도하여 최적의 하이퍼파라미터를 찾는다.\n",
        "\n",
        "\n",
        "---\n",
        "\n",
        "\n",
        "\n",
        "3. **모델 훈련 및 평가**\n",
        "* 데이터 분할: 전처리된 데이터를 훈련 세트와 테스트 세트로 분할한다.\n",
        "* 모델 초기화: 랜덤 포레스트 분류기를 초기화한다.\n",
        "* 모델 훈련: 훈련 세트를 사용하여 랜덤 포레스트 분류기를 훈련시킨다.\n",
        "* 모델 평가: 테스트 세트를 사용하여 모델의 성능을 평가한다. 주로 정확도를 사용한다.\n",
        "\n",
        "\n",
        "---\n",
        "\n",
        "\n",
        "4. **교차 검증 및 분류 모델 최종성능 확인**\n",
        "5-겹 교차 검증: 최적의 하이퍼파라미터를 사용한 모델에 대해 5-겹 교차 검증을 수행하여 모델의 일반화 성능을 평가한다.\n",
        "=> 쉽게 설명하면 데이터를 5개의 부분집합으로 나누고 훈련 셋(4개의 부분집합)과 테스트 셋(1개의 부분집합)을 변경해가며 사용하는 방법.\n",
        "\n",
        "---\n",
        "\n",
        "5. **모델 저장, 모델 사용 예시 출력**\n",
        "Joblib 사용: 훈련된 모델을 파일로 저장하기 위해 Joblib 라이브러리를 사용한다.\n",
        "\n",
        "\n",
        "---\n",
        "\n",
        "\n"
      ],
      "metadata": {
        "id": "3-3xLDABPeUv"
      }
    },
    {
      "cell_type": "markdown",
      "source": [
        "1. 데이터 전처리 및 준비"
      ],
      "metadata": {
        "id": "981edWT9Tra0"
      }
    },
    {
      "cell_type": "code",
      "execution_count": 3,
      "metadata": {
        "id": "N8DIQIveJxt7",
        "colab": {
          "base_uri": "https://localhost:8080/"
        },
        "outputId": "e340fe92-bc5f-444f-a755-71aa31b6c0bb"
      },
      "outputs": [
        {
          "output_type": "stream",
          "name": "stdout",
          "text": [
            "step1 complete\n"
          ]
        }
      ],
      "source": [
        "# Import necessary libraries\n",
        "import pandas as pd\n",
        "from sklearn.model_selection import train_test_split, GridSearchCV\n",
        "from sklearn.preprocessing import LabelEncoder\n",
        "from sklearn.ensemble import RandomForestClassifier\n",
        "from sklearn.metrics import accuracy_score\n",
        "from sklearn.model_selection import cross_val_score\n",
        "import joblib\n",
        "\n",
        "\n",
        "\n",
        "# Load and clean the data\n",
        "df_cleaned = pd.read_json('/content/drive/MyDrive/etri_drive/data/xyz_selected_data.json').dropna()\n",
        "label_encoders = {}\n",
        "for column in df_cleaned.columns:\n",
        "    le = LabelEncoder()\n",
        "    df_cleaned[column] = le.fit_transform(df_cleaned[column])\n",
        "    label_encoders[column] = le\n",
        "# Split data into training and test sets\n",
        "X = df_cleaned.drop('적용단계', axis=1)\n",
        "y = df_cleaned['적용단계']\n",
        "X_train, X_test, y_train, y_test = train_test_split(\n",
        "    X, y, test_size=0.2, random_state=42)\n",
        "\n",
        "# Initialize Random Forest classifier\n",
        "rf_clf = RandomForestClassifier(random_state=42)\n",
        "\n",
        "print('step1 complete')"
      ]
    },
    {
      "cell_type": "markdown",
      "source": [
        "2.하이퍼 파라미터 튜닝"
      ],
      "metadata": {
        "id": "aWO3KSrzT2TD"
      }
    },
    {
      "cell_type": "code",
      "source": [
        "# Hyperparameter Tuning using GridSearchCV\n",
        "param_grid = {\n",
        "    'n_estimators': [50, 100],\n",
        "    'max_depth': [None, 10, 20],\n",
        "    'min_samples_split': [2, 5],\n",
        "    'min_samples_leaf': [1, 2]\n",
        "}\n",
        "grid_search = GridSearchCV(\n",
        "    estimator=rf_clf, param_grid=param_grid, cv=3, n_jobs=-1)\n",
        "grid_search.fit(X_train, y_train)\n",
        "best_params = grid_search.best_params_\n",
        "\n",
        "print('step2 complete')"
      ],
      "metadata": {
        "id": "Ex7OL68-T-2M",
        "colab": {
          "base_uri": "https://localhost:8080/"
        },
        "outputId": "3df2a30b-82a9-4bdd-bf47-9fc5f9ec650e"
      },
      "execution_count": 4,
      "outputs": [
        {
          "output_type": "stream",
          "name": "stderr",
          "text": [
            "/usr/local/lib/python3.10/dist-packages/sklearn/model_selection/_split.py:700: UserWarning: The least populated class in y has only 2 members, which is less than n_splits=3.\n",
            "  warnings.warn(\n"
          ]
        },
        {
          "output_type": "stream",
          "name": "stdout",
          "text": [
            "step2 complete\n"
          ]
        }
      ]
    },
    {
      "cell_type": "markdown",
      "source": [
        "3. 모델 훈련 및 평가\n",
        "4. 교차 검증 및 분류모델 최종 성능 확인"
      ],
      "metadata": {
        "id": "Pf064Pg1UJxE"
      }
    },
    {
      "cell_type": "code",
      "source": [
        "\n",
        "# Train and evaluate Random Forest with best parameters\n",
        "best_rf_clf = RandomForestClassifier(**best_params, random_state=42)\n",
        "best_rf_clf.fit(X_train, y_train)\n",
        "y_pred = best_rf_clf.predict(X_test)\n",
        "accuracy = accuracy_score(y_test, y_pred)\n",
        "\n",
        "print('step3 complete')\n",
        "\n",
        "# Perform 5-Fold Cross-Validation\n",
        "cv_scores = cross_val_score(best_rf_clf, X, y, cv=5)\n",
        "cv_mean = cv_scores.mean()\n",
        "cv_std = cv_scores.std()\n",
        "\n",
        "# Print the accuracy on the test set\n",
        "print(f\"Test set accuracy: {accuracy * 100:.2f}%\")\n",
        "\n",
        "# Print the 5-Fold Cross-Validation scores\n",
        "print(f\"5-Fold CV Scores: {cv_scores}\")\n",
        "\n",
        "# Print the mean and standard deviation of the CV scores\n",
        "print(f\"5-Fold CV Mean: {cv_mean * 100:.2f}%\")\n",
        "print(f\"5-Fold CV Standard Deviation: {cv_std * 100:.2f}%\")\n",
        "\n",
        "print('step4 complete')\n"
      ],
      "metadata": {
        "colab": {
          "base_uri": "https://localhost:8080/"
        },
        "id": "yAISwup0LICR",
        "outputId": "fd06f7b7-f869-40cd-cc30-1a1486b011bd"
      },
      "execution_count": 5,
      "outputs": [
        {
          "output_type": "stream",
          "name": "stdout",
          "text": [
            "step3 complete\n"
          ]
        },
        {
          "output_type": "stream",
          "name": "stderr",
          "text": [
            "/usr/local/lib/python3.10/dist-packages/sklearn/model_selection/_split.py:700: UserWarning: The least populated class in y has only 1 members, which is less than n_splits=5.\n",
            "  warnings.warn(\n"
          ]
        },
        {
          "output_type": "stream",
          "name": "stdout",
          "text": [
            "Test set accuracy: 70.56%\n",
            "5-Fold CV Scores: [0.47983871 0.63306452 0.66935484 0.70564516 0.84615385]\n",
            "5-Fold CV Mean: 66.68%\n",
            "5-Fold CV Standard Deviation: 11.81%\n",
            "step4 complete\n"
          ]
        }
      ]
    },
    {
      "cell_type": "markdown",
      "source": [
        "5. 모델 저장 및 모델 사용 예시"
      ],
      "metadata": {
        "id": "wPpadZWfUZ8T"
      }
    },
    {
      "cell_type": "code",
      "source": [
        "\n",
        "# Save the trained model\n",
        "model_file_path = '/content/drive/MyDrive/etri_drive/models/model.joblib'\n",
        "joblib.dump(best_rf_clf, model_file_path)\n",
        "\n",
        "print('save complete')"
      ],
      "metadata": {
        "colab": {
          "base_uri": "https://localhost:8080/"
        },
        "id": "N49MRPz9LOzg",
        "outputId": "a1922216-80b3-41e6-9013-3079fccfcf3e"
      },
      "execution_count": 6,
      "outputs": [
        {
          "output_type": "stream",
          "name": "stdout",
          "text": [
            "save complete\n"
          ]
        }
      ]
    },
    {
      "cell_type": "code",
      "source": [
        "\n",
        "# Load the trained model from the file\n",
        "loaded_model = joblib.load(model_file_path)\n",
        "print('model load complete')\n",
        "# Select a few samples from the test set\n",
        "sample_data = X_test.sample(5, random_state=42)\n",
        "\n",
        "# Make predictions using the loaded model\n",
        "sample_predictions = loaded_model.predict(sample_data)\n",
        "\n",
        "# Decode the sample data categories back to original text labels\n",
        "decoded_sample_data = sample_data.copy()\n",
        "for column in sample_data.columns:\n",
        "    decoded_sample_data[column] = label_encoders[column].inverse_transform(sample_data[column])\n",
        "\n",
        "# Show the decoded sample data along with the decoded predictions\n",
        "decoded_sample_data, decoded_predictions\n",
        "\n",
        "\n"
      ],
      "metadata": {
        "colab": {
          "base_uri": "https://localhost:8080/"
        },
        "id": "kNyX2vzSLjsR",
        "outputId": "070e550d-59c3-42b1-d805-15b29857bba1"
      },
      "execution_count": 12,
      "outputs": [
        {
          "output_type": "stream",
          "name": "stdout",
          "text": [
            "model load complete\n"
          ]
        },
        {
          "output_type": "execute_result",
          "data": {
            "text/plain": [
              "(      스마트 인프라        인프라분류 상호운용성수준 세부분류키워드\n",
              " 825   스마트 인프라  인프라 네트워크/장치      장치    장치규격\n",
              " 3884  스마트 인프라      인프라 플랫폼      정보   데이터품질\n",
              " 2505  스마트 인프라    인프라 운영/평가      운영      지침\n",
              " 3039  스마트 인프라    인프라 운영/평가      운영      기준\n",
              " 1159  스마트 인프라    인프라 운영/평가      기능    참조모델,\n",
              " array(['Do', 'Do', 'Plan(운영전략)', 'Plan(운영전략)', 'Plan(스마트시티구축)'],\n",
              "       dtype=object))"
            ]
          },
          "metadata": {},
          "execution_count": 12
        }
      ]
    }
  ]
}